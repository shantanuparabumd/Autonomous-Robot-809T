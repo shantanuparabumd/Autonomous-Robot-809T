{
 "cells": [
  {
   "cell_type": "code",
   "execution_count": 1,
   "id": "0c987fa3",
   "metadata": {},
   "outputs": [
    {
     "name": "stdout",
     "output_type": "stream",
     "text": [
      "0.5 0.5\n",
      "50 50\n",
      "0.6154700538379251 0.7\n",
      "0.6154700538379251 0.7\n",
      "62 70\n"
     ]
    }
   ],
   "source": [
    "# import RPi.GPIO as gpio\n",
    "import numpy as np\n",
    "import time\n",
    "import datetime\n",
    "# import serial\n",
    "import math\n",
    "import cv2\n",
    "# from picamera.array import PiRGBArray\n",
    "# from picamera import PiCamera\n",
    "\n",
    "\n",
    "\n",
    "class Map:\n",
    "    \n",
    "    def __init__(self):\n",
    "        self.scale=4\n",
    "        self.occupancy_grid=np.zeros((305*self.scale, 305*self.scale,3))\n",
    "        self.robot_pose=[0,0,0]\n",
    "        self.block_pose=None\n",
    "        \n",
    "    def update_occupancy_grid(self,x,y):\n",
    "        print(x,y)\n",
    "        xc=int(round(x*100))\n",
    "        yc=int(round(y*100))\n",
    "        print(xc,yc)\n",
    "        self.occupancy_grid[xc:xc+self.scale,yc:y+self.scale]=[255,255,255]\n",
    "\n",
    "    \n",
    "    def update_robot_pose(self,x,y,theta):\n",
    "        self.robot_pose=[x,y,theta]\n",
    "        \n",
    "\n",
    "    def get_block_pose(self,depth,angle):\n",
    "        new_depth=depth/math.cos(angle)\n",
    "        yn=new_depth*math.sin(self.robot_pose[2]-angle)\n",
    "        xn=new_depth*math.cos(self.robot_pose[2]-angle)\n",
    "        xb=xn+self.robot_pose[0]\n",
    "        yb=yn+self.robot_pose[1]\n",
    "        print(xb,yb)\n",
    "        return xb,yb\n",
    "\n",
    "    def check_occupancy_grid(self):\n",
    "        pass\n",
    "\n",
    "    def move_robot(self):\n",
    "        pass\n",
    "\n",
    "    def create_map(self):\n",
    "#         while not self.check_occupancy_grid():\n",
    "        self.update_occupancy_grid(0.5,0.5)\n",
    "        self.update_robot_pose(0.5,0.5,math.pi/2)\n",
    "        x,y=self.get_block_pose(0.2,math.pi/6)\n",
    "        self.update_occupancy_grid(x,y)\n",
    "        # self.move_robot()\n",
    "        \n",
    "    def show(self):\n",
    "        # Create an OpenCV image from the matrix\n",
    "        array = np.uint8(self.occupancy_grid)\n",
    "\n",
    "        # Display the image using OpenCV\n",
    "        cv2.imshow('Image', array)\n",
    "        cv2.waitKey(0)\n",
    "        cv2.destroyAllWindows()\n",
    "            \n",
    "\n",
    "            \n",
    "m=Map()\n",
    "\n",
    "m.create_map()\n",
    "m.show()\n"
   ]
  },
  {
   "cell_type": "code",
   "execution_count": 5,
   "id": "861eba2d",
   "metadata": {},
   "outputs": [],
   "source": [
    "occupancy_grid=np.zeros((305, 305))"
   ]
  },
  {
   "cell_type": "code",
   "execution_count": 10,
   "id": "803019f1",
   "metadata": {},
   "outputs": [],
   "source": [
    "occupancy_grid[141,0]+=1"
   ]
  },
  {
   "cell_type": "code",
   "execution_count": 11,
   "id": "10fb753e",
   "metadata": {},
   "outputs": [
    {
     "data": {
      "text/plain": [
       "array([[1., 0., 0., ..., 0., 0., 0.],\n",
       "       [0., 0., 0., ..., 0., 0., 0.],\n",
       "       [0., 0., 0., ..., 0., 0., 0.],\n",
       "       ...,\n",
       "       [0., 0., 0., ..., 0., 0., 0.],\n",
       "       [0., 0., 0., ..., 0., 0., 0.],\n",
       "       [0., 0., 0., ..., 0., 0., 0.]])"
      ]
     },
     "execution_count": 11,
     "metadata": {},
     "output_type": "execute_result"
    }
   ],
   "source": [
    "occupancy_grid"
   ]
  },
  {
   "cell_type": "code",
   "execution_count": 15,
   "id": "48d6d883",
   "metadata": {},
   "outputs": [
    {
     "data": {
      "text/plain": [
       "0.1414213562373095"
      ]
     },
     "execution_count": 15,
     "metadata": {},
     "output_type": "execute_result"
    }
   ],
   "source": [
    "0.1/math.cos(math.pi/4)"
   ]
  },
  {
   "cell_type": "code",
   "execution_count": 16,
   "id": "f2f6b578",
   "metadata": {},
   "outputs": [
    {
     "data": {
      "text/plain": [
       "0.14142135623730953"
      ]
     },
     "execution_count": 16,
     "metadata": {},
     "output_type": "execute_result"
    }
   ],
   "source": [
    "math.sqrt(0.1**2+0.1**2)"
   ]
  },
  {
   "cell_type": "code",
   "execution_count": null,
   "id": "0005e464",
   "metadata": {},
   "outputs": [],
   "source": []
  }
 ],
 "metadata": {
  "kernelspec": {
   "display_name": "Python 3 (ipykernel)",
   "language": "python",
   "name": "python3"
  },
  "language_info": {
   "codemirror_mode": {
    "name": "ipython",
    "version": 3
   },
   "file_extension": ".py",
   "mimetype": "text/x-python",
   "name": "python",
   "nbconvert_exporter": "python",
   "pygments_lexer": "ipython3",
   "version": "3.9.0"
  }
 },
 "nbformat": 4,
 "nbformat_minor": 5
}
